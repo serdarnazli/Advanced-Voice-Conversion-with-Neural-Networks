{
 "cells": [
  {
   "cell_type": "markdown",
   "metadata": {},
   "source": [
    "# YZV302E - DEEP LEARNING TERM PROJECT\n",
    "## Fall, 23-24, Istanbul Technical University\n",
    "\n",
    "\n",
    "### Authors: Muhammet Serdar NAZLI, Ömer Faruk AYDIN"
   ]
  },
  {
   "cell_type": "code",
   "execution_count": null,
   "metadata": {
    "vscode": {
     "languageId": "plaintext"
    }
   },
   "outputs": [],
   "source": []
  }
 ],
 "metadata": {
  "language_info": {
   "name": "python"
  }
 },
 "nbformat": 4,
 "nbformat_minor": 2
}
